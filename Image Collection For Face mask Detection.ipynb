{
 "cells": [
  {
   "cell_type": "markdown",
   "id": "a4ccb77b",
   "metadata": {},
   "source": [
    "## Import Necessary Libraries"
   ]
  },
  {
   "cell_type": "code",
   "execution_count": 7,
   "id": "195120fd",
   "metadata": {},
   "outputs": [],
   "source": [
    "import os\n",
    "import uuid\n",
    "import time\n",
    "import cv2"
   ]
  },
  {
   "cell_type": "markdown",
   "id": "498bacaf",
   "metadata": {},
   "source": [
    "## Define Image labels and number of images in each class that you want to collect"
   ]
  },
  {
   "cell_type": "code",
   "execution_count": 8,
   "id": "58f0a8fc",
   "metadata": {},
   "outputs": [],
   "source": [
    "labels = ['Mask', 'Nomask']\n",
    "number_imgs = 10"
   ]
  },
  {
   "cell_type": "markdown",
   "id": "b666a04d",
   "metadata": {},
   "source": [
    "## Setup folder to save the images"
   ]
  },
  {
   "cell_type": "code",
   "execution_count": 9,
   "id": "7fd25276",
   "metadata": {},
   "outputs": [],
   "source": [
    "IMAGES_PATH = os.path.join('Tensorflow', 'workspace', 'images', 'collectedimages')"
   ]
  },
  {
   "cell_type": "markdown",
   "id": "480f5dcc",
   "metadata": {},
   "source": [
    "## Create number of directories at specified path according to number of classes"
   ]
  },
  {
   "cell_type": "code",
   "execution_count": 10,
   "id": "54a7b24b",
   "metadata": {},
   "outputs": [],
   "source": [
    "if not os.path.exists(IMAGES_PATH):\n",
    "    if os.name == 'posix':\n",
    "        !mkdir -p {IMAGES_PATH}\n",
    "    if os.name == 'nt':\n",
    "         !mkdir {IMAGES_PATH}\n",
    "for label in labels:\n",
    "    path = os.path.join(IMAGES_PATH, label)\n",
    "    if not os.path.exists(path):\n",
    "        !mkdir {path}"
   ]
  },
  {
   "cell_type": "markdown",
   "id": "7eb7f5c1",
   "metadata": {},
   "source": [
    "## Now collect images from the camera"
   ]
  },
  {
   "cell_type": "code",
   "execution_count": 11,
   "id": "6e49c845",
   "metadata": {},
   "outputs": [
    {
     "name": "stdout",
     "output_type": "stream",
     "text": [
      "Collecting images for Nomask\n",
      "Collecting image 0\n",
      "Collecting image 1\n",
      "Collecting image 2\n",
      "Collecting image 3\n",
      "Collecting image 4\n",
      "Collecting image 5\n",
      "Collecting image 6\n",
      "Collecting image 7\n",
      "Collecting image 8\n",
      "Collecting image 9\n"
     ]
    }
   ],
   "source": [
    "for label in labels:\n",
    "    cap = cv2.VideoCapture(0)\n",
    "    print('Collecting images for {}'.format(label))\n",
    "    time.sleep(5)\n",
    "    for imgnum in range(number_imgs):\n",
    "        print('Collecting image {}'.format(imgnum))\n",
    "        ret, frame = cap.read()\n",
    "        imgname = os.path.join(IMAGES_PATH,label,label+'.'+'{}.jpg'.format(str(uuid.uuid1())))\n",
    "        cv2.imwrite(imgname, frame)\n",
    "        cv2.imshow('frame', frame)\n",
    "        time.sleep(3)\n",
    "\n",
    "        if cv2.waitKey(1) & 0xFF == ord('q'):\n",
    "            break\n",
    "cap.release()\n",
    "cv2.destroyAllWindows()"
   ]
  },
  {
   "cell_type": "markdown",
   "id": "d9592459",
   "metadata": {},
   "source": [
    "## Now comes to label and annotate the image"
   ]
  },
  {
   "cell_type": "markdown",
   "id": "86055a4e",
   "metadata": {},
   "source": [
    "First install label image https://pypi.org/project/labelImg/1.4.0/"
   ]
  },
  {
   "cell_type": "code",
   "execution_count": null,
   "id": "d99235e6",
   "metadata": {},
   "outputs": [],
   "source": [
    "!pip install labelImg==1.4.0"
   ]
  },
  {
   "cell_type": "markdown",
   "id": "715d4c44",
   "metadata": {},
   "source": [
    "Then go to the command line and write labelimg and it will open up a gui like this"
   ]
  },
  {
   "cell_type": "markdown",
   "id": "594cc180",
   "metadata": {},
   "source": [
    "![alt text](resources/label_img.png \"Title\")"
   ]
  },
  {
   "cell_type": "markdown",
   "id": "788e8300",
   "metadata": {},
   "source": [
    "Now select the image folder that you want to annotate and start labeling each image"
   ]
  },
  {
   "cell_type": "markdown",
   "id": "2d650a0d",
   "metadata": {},
   "source": [
    "## For more Information I highly Recommend to visit \n",
    "\n",
    "Credits:https://youtu.be/yqkISICHH-U\n",
    "\n",
    "https://github.com/nicknochnack/TFODRPi"
   ]
  },
  {
   "cell_type": "code",
   "execution_count": null,
   "id": "416cec2e",
   "metadata": {},
   "outputs": [],
   "source": []
  }
 ],
 "metadata": {
  "kernelspec": {
   "display_name": "Python 3",
   "language": "python",
   "name": "python3"
  },
  "language_info": {
   "codemirror_mode": {
    "name": "ipython",
    "version": 3
   },
   "file_extension": ".py",
   "mimetype": "text/x-python",
   "name": "python",
   "nbconvert_exporter": "python",
   "pygments_lexer": "ipython3",
   "version": "3.8.8"
  }
 },
 "nbformat": 4,
 "nbformat_minor": 5
}
